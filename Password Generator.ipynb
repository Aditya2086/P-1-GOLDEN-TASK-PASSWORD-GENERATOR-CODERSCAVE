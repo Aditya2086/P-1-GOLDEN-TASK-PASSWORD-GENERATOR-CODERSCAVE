{
 "cells": [
  {
   "cell_type": "code",
   "execution_count": 4,
   "id": "1ab5c5a4-c37a-4677-a070-e4254968dd66",
   "metadata": {
    "tags": []
   },
   "outputs": [],
   "source": [
    "import random, string\n",
    "from tkinter import *\n",
    "import pyperclip\n",
    "\n",
    "root = Tk()\n",
    "root.geometry(\"400x400\")\n",
    "root.title(\"Secure Password Generator\")\n",
    "\n",
    "# Password generator function\n",
    "generated_password = StringVar()\n",
    "all_characters = [string.punctuation, string.ascii_uppercase, string.digits, string.ascii_lowercase]\n",
    "\n",
    "def generate_secure_password():\n",
    "    password = \"\"\n",
    "    for _ in range(password_length.get()):\n",
    "        char_type = random.choice(all_characters)\n",
    "        password = password + random.choice(char_type)\n",
    "    generated_password.set(password)\n",
    "\n",
    "def copy_password_to_clipboard():\n",
    "    pyperclip.copy(generated_password.get())\n",
    "\n",
    "\n",
    "password_label = Label(root, text='Password Length', font='arial 12 bold').pack(pady=10)\n",
    "password_length = IntVar()\n",
    "length_spinner = Spinbox(root, from_=4, to_=32, textvariable=password_length, width=24, font='arial 16').pack()\n",
    "\n",
    "generate_password_button = Button(root, command=generate_secure_password, text=\"Generate Password\", font=\"Arial 10\", bg='lightblue', fg='black', activebackground=\"teal\", padx=5, pady=5)\n",
    "generate_password_button.pack(pady=20)\n",
    "\n",
    "password_generated_label = Label(root, text='Generated Password', font='arial 12 bold').pack(pady=\"30 10\")\n",
    "password_entry = Entry(root, textvariable=generated_password, width=24, font='arial 16').pack()\n",
    "\n",
    "copy_to_clipboard_button = Button(root, text='Copy Password to Clipboard', command=copy_password_to_clipboard, font=\"Arial 10\", bg='lightblue', fg='black', activebackground=\"teal\", padx=5, pady=5)\n",
    "copy_to_clipboard_button.pack(pady=20)\n",
    "\n",
    "root.mainloop()\n"
   ]
  },
  {
   "cell_type": "code",
   "execution_count": null,
   "id": "733a6966-eb0d-4aa9-bfe0-d62b525f601c",
   "metadata": {},
   "outputs": [],
   "source": []
  }
 ],
 "metadata": {
  "kernelspec": {
   "display_name": "Python 3 (ipykernel)",
   "language": "python",
   "name": "python3"
  },
  "language_info": {
   "codemirror_mode": {
    "name": "ipython",
    "version": 3
   },
   "file_extension": ".py",
   "mimetype": "text/x-python",
   "name": "python",
   "nbconvert_exporter": "python",
   "pygments_lexer": "ipython3",
   "version": "3.11.4"
  }
 },
 "nbformat": 4,
 "nbformat_minor": 5
}
